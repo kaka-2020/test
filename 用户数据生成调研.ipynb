{
 "cells": [
  {
   "cell_type": "code",
   "execution_count": 1,
   "id": "6f422bbf-f89e-4620-a3a6-de4822421f80",
   "metadata": {},
   "outputs": [],
   "source": [
    "import random\n",
    "import pandas as pd\n",
    "from faker import Faker\n",
    "import numpy as np\n",
    "from datetime import date"
   ]
  },
  {
   "cell_type": "code",
   "execution_count": 2,
   "id": "7f2eaa38-4a29-422b-8867-70a9bfaafd9a",
   "metadata": {},
   "outputs": [],
   "source": [
    "fake = Faker('zh_CN')"
   ]
  },
  {
   "cell_type": "code",
   "execution_count": 3,
   "id": "a7aa6484-9865-41d9-8cb1-f22655298e29",
   "metadata": {},
   "outputs": [],
   "source": [
    "def generate_start_year_month():\n",
    "    start_year = random.randint(2011, 2025)\n",
    "    rand_num = random.random()\n",
    "    if rand_num < 0.18:\n",
    "        start_month = random.randint(1, 3)\n",
    "    elif rand_num < 0.5:\n",
    "        start_month = random.randint(4, 6)\n",
    "    elif rand_num < 0.85:\n",
    "        start_month = random.randint(8, 10)\n",
    "    else:\n",
    "        start_month = random.choice([7, 11, 12])\n",
    "    \n",
    "    return start_year, start_month"
   ]
  },
  {
   "cell_type": "code",
   "execution_count": 4,
   "id": "df0c5a13-b5a2-499d-8e13-acf030496125",
   "metadata": {},
   "outputs": [],
   "source": [
    "def generate_stay_duration():\n",
    "    stay_years = max(0, int(np.random.normal(1, 2)))\n",
    "    stay_months = max(0, int(np.random.normal(3, 3)))\n",
    "    return stay_years, stay_months"
   ]
  },
  {
   "cell_type": "code",
   "execution_count": 5,
   "id": "e7458225-e066-4749-b7fd-a0f38d74b016",
   "metadata": {},
   "outputs": [],
   "source": [
    "def generate_education():\n",
    "    education_levels = ['初中以下', '初中', '高中', '专科', '本科', '研究生', '博士', '其他']\n",
    "    education_probabilities = [0.405, 0.25, 0.2, 0.05, 0.03, 0.015, 0.001, 0.049]  \n",
    "    return str(np.random.choice(education_levels, p=education_probabilities))"
   ]
  },
  {
   "cell_type": "code",
   "execution_count": 6,
   "id": "17af626a-bb5b-4756-b623-e69309c259f0",
   "metadata": {},
   "outputs": [],
   "source": [
    "def generate_gender():\n",
    "    return '男' if random.random() < 0.55 else '女'\n",
    "\n",
    "def generate_name(gender):\n",
    "    return fake.name_male() if gender == \"男\" else fake.name_female()\n",
    "\n",
    "def generate_age():\n",
    "    age = max(18, min(100, int(np.random.normal(35, 15))))\n",
    "    return age"
   ]
  },
  {
   "cell_type": "code",
   "execution_count": 7,
   "id": "133ae98c-5bd5-4298-98db-62d826b020f5",
   "metadata": {},
   "outputs": [],
   "source": [
    "area_codes = {\n",
    "    \"北京市\": \"1100\", \"天津市\": \"1200\", \"河北省\": \"1300\", \"山西省\": \"1400\",\n",
    "    \"内蒙古自治区\": \"1500\", \"辽宁省\": \"2100\", \"吉林省\": \"2200\", \"黑龙江省\": \"2300\",\n",
    "    \"上海市\": \"3100\", \"江苏省\": \"3200\", \"浙江省\": \"3300\", \"安徽省\": \"3400\",\n",
    "    \"福建省\": \"3500\", \"江西省\": \"3600\", \"山东省\": \"3700\", \"河南省\": \"4100\"\n",
    "}\n",
    "\n",
    "\n",
    "def generate_huji():\n",
    "    return random.choice(list(area_codes.keys()))\n",
    "\n",
    "\n",
    "def hukou_location(hukou):\n",
    "    address = fake.address()\n",
    "    while hukou not in address:\n",
    "        if len(address) > 100:\n",
    "            break\n",
    "        address = fake.address()\n",
    "    return address"
   ]
  },
  {
   "cell_type": "code",
   "execution_count": 8,
   "id": "f6ff9653-559e-4389-a3ee-5d8a4748b4d8",
   "metadata": {},
   "outputs": [],
   "source": [
    "def generate_id_card(age, gender, area):\n",
    "    current_year = date.today().year\n",
    "    birth_year = current_year - age\n",
    "    \n",
    "    # 随机选择出生月份和日期\n",
    "    birth_month = random.randint(1, 12)\n",
    "    birth_day = random.randint(1, 28) \n",
    "\n",
    "    # 性别相关数字\n",
    "    gender_digit = random.choice([0, 2, 4, 6, 8]) if gender == '女' else random.choice([1, 3, 5, 7, 9])\n",
    "    \n",
    "    # 随机选择地区后两位\n",
    "    id_area_code = area_codes[area] + f\"{random.randint(0, 99):02d}\"\n",
    "    \n",
    "    # 组装出生日期字符串\n",
    "    birth_str = f\"{birth_year:04d}{birth_month:02d}{birth_day:02d}\"\n",
    "    \n",
    "    # 随机构造身份证号码中的顺序码\n",
    "    random_digits = f\"{random.randint(0, 9)}{random.randint(0, 9)}{gender_digit}\"\n",
    "    \n",
    "    # 组合身份证号码基础部分\n",
    "    id_card_base = f\"{id_area_code}{birth_str}{random_digits}\"\n",
    "    \n",
    "    # 计算校验码\n",
    "    check_code = calculate_check_code(id_card_base)\n",
    "    \n",
    "    # 返回完整的身份证号码\n",
    "    return f\"{id_card_base}{check_code}\""
   ]
  },
  {
   "cell_type": "code",
   "execution_count": 9,
   "id": "6e60e80b-6e7b-47b3-8687-26ff34de455b",
   "metadata": {},
   "outputs": [],
   "source": [
    "def calculate_check_code(id_card_base):\n",
    "    factors = [7, 9, 10, 5, 8, 4, 2, 1, 6, 3, 7, 9, 10, 5, 8, 4, 2]\n",
    "    check_code_map = '10X98765432'\n",
    "    sum_product = sum([int(id_card_base[i]) * factors[i] for i in range(len(factors))])\n",
    "    return check_code_map[sum_product % 11]\n",
    "\n",
    "\n",
    "def generate_job_type():\n",
    "    job_types = ['无业', '其他', '服务业', '经商', '务农', '务工', '教育', '医疗', '建筑', '科技', '文化艺术', '金融', '运输']\n",
    "    job_probabilities = [0.15, 0.1043, 0.099, 0.034, 0.034, 0.4427, 0.03, 0.02, 0.015, 0.02, 0.015, 0.02, 0.016]\n",
    "    return str(np.random.choice(job_types, p=job_probabilities))"
   ]
  },
  {
   "cell_type": "code",
   "execution_count": 13,
   "id": "866e7f30-d529-4676-8b1b-d16f1c96863c",
   "metadata": {},
   "outputs": [],
   "source": [
    "def generate_data(size):\n",
    "    data = []\n",
    "    for _ in range(size):\n",
    "        start_year, start_month = generate_start_year_month()\n",
    "        stay_years, stay_months = generate_stay_duration()\n",
    "        user_id = random.randint(1000000000, 9999999999)\n",
    "        phone = fake.phone_number()\n",
    "        gender = generate_gender()\n",
    "        name = generate_name(gender)\n",
    "        age = generate_age()\n",
    "        education = generate_education()\n",
    "        huji = generate_huji()\n",
    "        id_number = generate_id_card(age, gender, huji)\n",
    "        address = hukou_location(huji)\n",
    "        job_type = generate_job_type()\n",
    "        user_type='固定工作' if job_type in ['科技','务工','金融','医疗','教育'] else '无固定工作'\n",
    "        total_months = stay_years * 12 + stay_months\n",
    "        \n",
    "        for month in range(total_months):\n",
    "            current_year = start_year + (start_month + month - 1) // 12\n",
    "            current_month = (start_month + month - 1) % 12 + 1\n",
    "            if current_year > 2024:\n",
    "                break\n",
    "            month = month + random.randint(0, 3)\n",
    "            data.append([\n",
    "                current_year, current_month, user_id, phone, name, gender,\n",
    "                age, education, huji, id_number, address, job_type, user_type\n",
    "            ])\n",
    "    \n",
    "    return pd.DataFrame(data, columns=['year', 'month', 'user_id', 'phone', 'name', 'gender',\n",
    "                                       'age', 'education', 'huji', 'id_number', 'address', 'job_type', 'user_type'])\n"
   ]
  },
  {
   "cell_type": "code",
   "execution_count": 14,
   "id": "5ff3d405-2e84-462d-b9ad-f2341988cb0d",
   "metadata": {},
   "outputs": [],
   "source": [
    "from ydata_profiling import ProfileReport"
   ]
  },
  {
   "cell_type": "code",
   "execution_count": 15,
   "id": "f1dae01b-6979-4e9c-8347-3eea1b996334",
   "metadata": {},
   "outputs": [
    {
     "data": {
      "application/vnd.jupyter.widget-view+json": {
       "model_id": "a349b41c756f4d4a9868e57e5929885d",
       "version_major": 2,
       "version_minor": 0
      },
      "text/plain": [
       "Summarize dataset:   0%|          | 0/5 [00:00<?, ?it/s]"
      ]
     },
     "metadata": {},
     "output_type": "display_data"
    },
    {
     "data": {
      "application/vnd.jupyter.widget-view+json": {
       "model_id": "4caff06a734a4bbfbc09085665561206",
       "version_major": 2,
       "version_minor": 0
      },
      "text/plain": [
       "Generate report structure:   0%|          | 0/1 [00:00<?, ?it/s]"
      ]
     },
     "metadata": {},
     "output_type": "display_data"
    },
    {
     "name": "stderr",
     "output_type": "stream",
     "text": [
      "/Users/master/miniconda3/lib/python3.12/site-packages/ydata_profiling/visualisation/utils.py:73: UserWarning: Glyph 30007 (\\N{CJK UNIFIED IDEOGRAPH-7537}) missing from font(s) Arial.\n",
      "  plt.savefig(\n",
      "/Users/master/miniconda3/lib/python3.12/site-packages/ydata_profiling/visualisation/utils.py:73: UserWarning: Glyph 22899 (\\N{CJK UNIFIED IDEOGRAPH-5973}) missing from font(s) Arial.\n",
      "  plt.savefig(\n",
      "/Users/master/miniconda3/lib/python3.12/site-packages/ydata_profiling/visualisation/utils.py:73: UserWarning: Glyph 21021 (\\N{CJK UNIFIED IDEOGRAPH-521D}) missing from font(s) Arial.\n",
      "  plt.savefig(\n",
      "/Users/master/miniconda3/lib/python3.12/site-packages/ydata_profiling/visualisation/utils.py:73: UserWarning: Glyph 20013 (\\N{CJK UNIFIED IDEOGRAPH-4E2D}) missing from font(s) Arial.\n",
      "  plt.savefig(\n",
      "/Users/master/miniconda3/lib/python3.12/site-packages/ydata_profiling/visualisation/utils.py:73: UserWarning: Glyph 20197 (\\N{CJK UNIFIED IDEOGRAPH-4EE5}) missing from font(s) Arial.\n",
      "  plt.savefig(\n",
      "/Users/master/miniconda3/lib/python3.12/site-packages/ydata_profiling/visualisation/utils.py:73: UserWarning: Glyph 19979 (\\N{CJK UNIFIED IDEOGRAPH-4E0B}) missing from font(s) Arial.\n",
      "  plt.savefig(\n",
      "/Users/master/miniconda3/lib/python3.12/site-packages/ydata_profiling/visualisation/utils.py:73: UserWarning: Glyph 39640 (\\N{CJK UNIFIED IDEOGRAPH-9AD8}) missing from font(s) Arial.\n",
      "  plt.savefig(\n",
      "/Users/master/miniconda3/lib/python3.12/site-packages/ydata_profiling/visualisation/utils.py:73: UserWarning: Glyph 20854 (\\N{CJK UNIFIED IDEOGRAPH-5176}) missing from font(s) Arial.\n",
      "  plt.savefig(\n",
      "/Users/master/miniconda3/lib/python3.12/site-packages/ydata_profiling/visualisation/utils.py:73: UserWarning: Glyph 20182 (\\N{CJK UNIFIED IDEOGRAPH-4ED6}) missing from font(s) Arial.\n",
      "  plt.savefig(\n",
      "/Users/master/miniconda3/lib/python3.12/site-packages/ydata_profiling/visualisation/utils.py:73: UserWarning: Glyph 19987 (\\N{CJK UNIFIED IDEOGRAPH-4E13}) missing from font(s) Arial.\n",
      "  plt.savefig(\n",
      "/Users/master/miniconda3/lib/python3.12/site-packages/ydata_profiling/visualisation/utils.py:73: UserWarning: Glyph 31185 (\\N{CJK UNIFIED IDEOGRAPH-79D1}) missing from font(s) Arial.\n",
      "  plt.savefig(\n",
      "/Users/master/miniconda3/lib/python3.12/site-packages/ydata_profiling/visualisation/utils.py:73: UserWarning: Glyph 26412 (\\N{CJK UNIFIED IDEOGRAPH-672C}) missing from font(s) Arial.\n",
      "  plt.savefig(\n",
      "/Users/master/miniconda3/lib/python3.12/site-packages/ydata_profiling/visualisation/utils.py:73: UserWarning: Glyph 30740 (\\N{CJK UNIFIED IDEOGRAPH-7814}) missing from font(s) Arial.\n",
      "  plt.savefig(\n",
      "/Users/master/miniconda3/lib/python3.12/site-packages/ydata_profiling/visualisation/utils.py:73: UserWarning: Glyph 31350 (\\N{CJK UNIFIED IDEOGRAPH-7A76}) missing from font(s) Arial.\n",
      "  plt.savefig(\n",
      "/Users/master/miniconda3/lib/python3.12/site-packages/ydata_profiling/visualisation/utils.py:73: UserWarning: Glyph 29983 (\\N{CJK UNIFIED IDEOGRAPH-751F}) missing from font(s) Arial.\n",
      "  plt.savefig(\n",
      "/Users/master/miniconda3/lib/python3.12/site-packages/ydata_profiling/visualisation/utils.py:73: UserWarning: Glyph 21338 (\\N{CJK UNIFIED IDEOGRAPH-535A}) missing from font(s) Arial.\n",
      "  plt.savefig(\n",
      "/Users/master/miniconda3/lib/python3.12/site-packages/ydata_profiling/visualisation/utils.py:73: UserWarning: Glyph 22763 (\\N{CJK UNIFIED IDEOGRAPH-58EB}) missing from font(s) Arial.\n",
      "  plt.savefig(\n",
      "/Users/master/miniconda3/lib/python3.12/site-packages/ydata_profiling/visualisation/utils.py:73: UserWarning: Glyph 22266 (\\N{CJK UNIFIED IDEOGRAPH-56FA}) missing from font(s) Arial.\n",
      "  plt.savefig(\n",
      "/Users/master/miniconda3/lib/python3.12/site-packages/ydata_profiling/visualisation/utils.py:73: UserWarning: Glyph 23450 (\\N{CJK UNIFIED IDEOGRAPH-5B9A}) missing from font(s) Arial.\n",
      "  plt.savefig(\n",
      "/Users/master/miniconda3/lib/python3.12/site-packages/ydata_profiling/visualisation/utils.py:73: UserWarning: Glyph 24037 (\\N{CJK UNIFIED IDEOGRAPH-5DE5}) missing from font(s) Arial.\n",
      "  plt.savefig(\n",
      "/Users/master/miniconda3/lib/python3.12/site-packages/ydata_profiling/visualisation/utils.py:73: UserWarning: Glyph 20316 (\\N{CJK UNIFIED IDEOGRAPH-4F5C}) missing from font(s) Arial.\n",
      "  plt.savefig(\n",
      "/Users/master/miniconda3/lib/python3.12/site-packages/ydata_profiling/visualisation/utils.py:73: UserWarning: Glyph 26080 (\\N{CJK UNIFIED IDEOGRAPH-65E0}) missing from font(s) Arial.\n",
      "  plt.savefig(\n"
     ]
    },
    {
     "data": {
      "application/vnd.jupyter.widget-view+json": {
       "model_id": "0049a95943474217b09ac925d75ae250",
       "version_major": 2,
       "version_minor": 0
      },
      "text/plain": [
       "Render HTML:   0%|          | 0/1 [00:00<?, ?it/s]"
      ]
     },
     "metadata": {},
     "output_type": "display_data"
    },
    {
     "data": {
      "application/vnd.jupyter.widget-view+json": {
       "model_id": "d9c98c92ac4943e398d75ed662dc7957",
       "version_major": 2,
       "version_minor": 0
      },
      "text/plain": [
       "Export report to file:   0%|          | 0/1 [00:00<?, ?it/s]"
      ]
     },
     "metadata": {},
     "output_type": "display_data"
    }
   ],
   "source": [
    "if __name__ == \"__main__\":\n",
    "    total_users = 5000\n",
    "    df = generate_data(total_users)\n",
    "    profile = ProfileReport(df, title=\"users Report\")\n",
    "    profile.to_file(\"users_report.html\")"
   ]
  },
  {
   "cell_type": "code",
   "execution_count": null,
   "id": "ac189f9e-65b6-47ea-bec2-25f4516a462f",
   "metadata": {},
   "outputs": [],
   "source": []
  },
  {
   "cell_type": "code",
   "execution_count": null,
   "id": "ffcf8248-5fc8-4b78-a445-4e8f84528889",
   "metadata": {},
   "outputs": [],
   "source": []
  },
  {
   "cell_type": "code",
   "execution_count": null,
   "id": "01f90d31-4b56-4dda-9487-dd6491324f26",
   "metadata": {},
   "outputs": [],
   "source": []
  },
  {
   "cell_type": "code",
   "execution_count": null,
   "id": "b656e1e3-9fb6-4f35-b70d-17112c41e4d7",
   "metadata": {},
   "outputs": [],
   "source": []
  },
  {
   "cell_type": "code",
   "execution_count": null,
   "id": "f22996e7-c981-4736-83a3-e1f434feb5e5",
   "metadata": {},
   "outputs": [],
   "source": []
  },
  {
   "cell_type": "code",
   "execution_count": null,
   "id": "6aae66fb-43c6-459f-bc29-272b8e4b78ac",
   "metadata": {},
   "outputs": [],
   "source": []
  },
  {
   "cell_type": "code",
   "execution_count": null,
   "id": "0b092970-4698-41e4-b12b-9bc1f035be00",
   "metadata": {},
   "outputs": [],
   "source": []
  }
 ],
 "metadata": {
  "kernelspec": {
   "display_name": "Python 3 (ipykernel)",
   "language": "python",
   "name": "python3"
  },
  "language_info": {
   "codemirror_mode": {
    "name": "ipython",
    "version": 3
   },
   "file_extension": ".py",
   "mimetype": "text/x-python",
   "name": "python",
   "nbconvert_exporter": "python",
   "pygments_lexer": "ipython3",
   "version": "3.12.4"
  }
 },
 "nbformat": 4,
 "nbformat_minor": 5
}
